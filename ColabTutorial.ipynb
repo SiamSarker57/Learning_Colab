{
  "nbformat": 4,
  "nbformat_minor": 0,
  "metadata": {
    "colab": {
      "provenance": [],
      "authorship_tag": "ABX9TyPgnr7xZdByAEqqxRKVGx9T",
      "include_colab_link": true
    },
    "kernelspec": {
      "name": "python3",
      "display_name": "Python 3"
    },
    "language_info": {
      "name": "python"
    }
  },
  "cells": [
    {
      "cell_type": "markdown",
      "metadata": {
        "id": "view-in-github",
        "colab_type": "text"
      },
      "source": [
        "<a href=\"https://colab.research.google.com/github/SiamSarker57/Learning_Colab/blob/main/ColabTutorial.ipynb\" target=\"_parent\"><img src=\"https://colab.research.google.com/assets/colab-badge.svg\" alt=\"Open In Colab\"/></a>"
      ]
    },
    {
      "cell_type": "code",
      "execution_count": 2,
      "metadata": {
        "colab": {
          "base_uri": "https://localhost:8080/"
        },
        "id": "DpBrjmpwlwhI",
        "outputId": "d8f60208-576e-40da-c14e-4f32bfb0e1de"
      },
      "outputs": [
        {
          "output_type": "stream",
          "name": "stdout",
          "text": [
            "Siam Sarker\n"
          ]
        }
      ],
      "source": [
        "print(\"Siam Sarker\")"
      ]
    },
    {
      "cell_type": "code",
      "source": [
        "Siam Sarker"
      ],
      "metadata": {
        "id": "IuqfJ44gmNNJ"
      },
      "execution_count": null,
      "outputs": []
    },
    {
      "cell_type": "markdown",
      "source": [],
      "metadata": {
        "id": "3XHFucP6mS1z"
      }
    },
    {
      "cell_type": "code",
      "source": [],
      "metadata": {
        "id": "Ls5dJMAKmY16"
      },
      "execution_count": null,
      "outputs": []
    }
  ]
}